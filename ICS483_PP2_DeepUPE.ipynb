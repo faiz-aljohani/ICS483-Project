{
  "nbformat": 4,
  "nbformat_minor": 0,
  "metadata": {
    "colab": {
      "provenance": [],
      "gpuType": "T4",
      "authorship_tag": "ABX9TyPFS7j5E/2AxNbxwXHJW6F2",
      "include_colab_link": true
    },
    "kernelspec": {
      "name": "python3",
      "display_name": "Python 3"
    },
    "language_info": {
      "name": "python"
    },
    "accelerator": "GPU"
  },
  "cells": [
    {
      "cell_type": "markdown",
      "metadata": {
        "id": "view-in-github",
        "colab_type": "text"
      },
      "source": [
        "<a href=\"https://colab.research.google.com/github/faiz-aljohani/ICS483-Project/blob/main/ICS483_PP2_DeepUPE.ipynb\" target=\"_parent\"><img src=\"https://colab.research.google.com/assets/colab-badge.svg\" alt=\"Open In Colab\"/></a>"
      ]
    },
    {
      "cell_type": "code",
      "execution_count": null,
      "metadata": {
        "id": "OV8qFHVUiBcl",
        "colab": {
          "base_uri": "https://localhost:8080/"
        },
        "outputId": "4ff3f50b-1c91-495a-e256-2cc87a82bbf9"
      },
      "outputs": [
        {
          "output_type": "stream",
          "name": "stdout",
          "text": [
            "Collecting wget\n",
            "  Downloading wget-3.2.zip (10 kB)\n",
            "  Preparing metadata (setup.py) ... \u001b[?25l\u001b[?25hdone\n",
            "Building wheels for collected packages: wget\n",
            "  Building wheel for wget (setup.py) ... \u001b[?25l\u001b[?25hdone\n",
            "  Created wheel for wget: filename=wget-3.2-py3-none-any.whl size=9656 sha256=a1a5add566001e7e42f7cdb2baab902bfa0e539ba1682bc70ee7e01ba6156aba\n",
            "  Stored in directory: /root/.cache/pip/wheels/8b/f1/7f/5c94f0a7a505ca1c81cd1d9208ae2064675d97582078e6c769\n",
            "Successfully built wget\n",
            "Installing collected packages: wget\n",
            "Successfully installed wget-3.2\n",
            "Cloning into 'DeepUPE_pytorch'...\n",
            "remote: Enumerating objects: 178, done.\u001b[K\n",
            "remote: Total 178 (delta 0), reused 0 (delta 0), pack-reused 178\u001b[K\n",
            "Receiving objects: 100% (178/178), 283.62 MiB | 36.93 MiB/s, done.\n",
            "Resolving deltas: 100% (44/44), done.\n",
            "Updating files: 100% (94/94), done.\n"
          ]
        }
      ],
      "source": [
        "!pip install wget\n",
        "\n",
        "!git clone https://github.com/hermosayhl/DeepUPE_pytorch.git\n",
        "!mv /content/DeepUPE_pytorch/* /content\n",
        "!rm -r /content/DeepUPE_pytorch"
      ]
    },
    {
      "cell_type": "code",
      "source": [
        "!pip install imageio\n",
        "!pip install Cython\n",
        "!pip install numpy\n",
        "!pip install dill\n",
        "!pip install Pillow"
      ],
      "metadata": {
        "id": "-pS1vKQk1O1t",
        "colab": {
          "base_uri": "https://localhost:8080/"
        },
        "outputId": "22928955-af60-469d-a256-d444be29d746"
      },
      "execution_count": null,
      "outputs": [
        {
          "output_type": "stream",
          "name": "stdout",
          "text": [
            "Requirement already satisfied: imageio in /usr/local/lib/python3.10/dist-packages (2.31.6)\n",
            "Requirement already satisfied: numpy in /usr/local/lib/python3.10/dist-packages (from imageio) (1.25.2)\n",
            "Requirement already satisfied: pillow<10.1.0,>=8.3.2 in /usr/local/lib/python3.10/dist-packages (from imageio) (9.4.0)\n",
            "Requirement already satisfied: Cython in /usr/local/lib/python3.10/dist-packages (3.0.10)\n",
            "Requirement already satisfied: numpy in /usr/local/lib/python3.10/dist-packages (1.25.2)\n",
            "Collecting dill\n",
            "  Downloading dill-0.3.8-py3-none-any.whl (116 kB)\n",
            "\u001b[2K     \u001b[90m━━━━━━━━━━━━━━━━━━━━━━━━━━━━━━━━━━━━━━━━\u001b[0m \u001b[32m116.3/116.3 kB\u001b[0m \u001b[31m2.7 MB/s\u001b[0m eta \u001b[36m0:00:00\u001b[0m\n",
            "\u001b[?25hInstalling collected packages: dill\n",
            "Successfully installed dill-0.3.8\n",
            "Requirement already satisfied: Pillow in /usr/local/lib/python3.10/dist-packages (9.4.0)\n"
          ]
        }
      ]
    },
    {
      "cell_type": "code",
      "source": [
        "!gdown 1dzuLCk9_gE2bFF222n3-7GVUlSVHpMYC\n",
        "!unzip LOL-v2.zip"
      ],
      "metadata": {
        "id": "WFwunT6giH3v"
      },
      "execution_count": null,
      "outputs": []
    },
    {
      "cell_type": "code",
      "source": [
        "!rm /content/sample_results/*\n",
        "!rm /content/high_resolution/input/*"
      ],
      "metadata": {
        "id": "PkYs-lZviJKr"
      },
      "execution_count": null,
      "outputs": []
    },
    {
      "cell_type": "code",
      "source": [
        "!mv /content/LOL-v2/Real_captured/Test/Low/* /content/high_resolution/input/"
      ],
      "metadata": {
        "id": "7WVupX7Xni4n"
      },
      "execution_count": null,
      "outputs": []
    },
    {
      "cell_type": "code",
      "source": [
        "!python /content/inference.py"
      ],
      "metadata": {
        "id": "QhGK0BJNn9cP",
        "colab": {
          "base_uri": "https://localhost:8080/"
        },
        "outputId": "21838fa2-81b7-4b04-f937-9d261405a92a"
      },
      "execution_count": null,
      "outputs": [
        {
          "output_type": "stream",
          "name": "stdout",
          "text": [
            "luma_bins  :  8\n",
            "channel_multiplier  :  1\n",
            "spatial_bin  :  8\n",
            "batch_norm  :  True\n",
            "low_size  :  256\n",
            "full_size  :  512\n",
            "use_cuda  :  True\n",
            "eps_value  :  0.0001\n",
            "save_extra  :  False\n",
            "images_dir  :  ./high_resolution/input\n",
            "result_dir  :  ./sample_results\n",
            "checkpoints_file  :  ./checkpoints/simple_batch_16/epoch_48_psnr_23.677.pth\n",
            "loaded weights from ./checkpoints/simple_batch_16/epoch_48_psnr_23.677.pth\n",
            "100 images are to be processed !\n",
            "1/100===> processing ./high_resolution/input/low00693.png and saved to ./sample_results/low00693.png\n",
            "2/100===> processing ./high_resolution/input/low00782.png and saved to ./sample_results/low00782.png\n",
            "3/100===> processing ./high_resolution/input/low00787.png and saved to ./sample_results/low00787.png\n",
            "4/100===> processing ./high_resolution/input/low00777.png and saved to ./sample_results/low00777.png\n",
            "5/100===> processing ./high_resolution/input/low00744.png and saved to ./sample_results/low00744.png\n",
            "6/100===> processing ./high_resolution/input/low00780.png and saved to ./sample_results/low00780.png\n",
            "7/100===> processing ./high_resolution/input/low00737.png and saved to ./sample_results/low00737.png\n",
            "8/100===> processing ./high_resolution/input/low00721.png and saved to ./sample_results/low00721.png\n",
            "9/100===> processing ./high_resolution/input/low00698.png and saved to ./sample_results/low00698.png\n",
            "10/100===> processing ./high_resolution/input/low00701.png and saved to ./sample_results/low00701.png\n",
            "11/100===> processing ./high_resolution/input/low00706.png and saved to ./sample_results/low00706.png\n",
            "12/100===> processing ./high_resolution/input/low00734.png and saved to ./sample_results/low00734.png\n",
            "13/100===> processing ./high_resolution/input/low00732.png and saved to ./sample_results/low00732.png\n",
            "14/100===> processing ./high_resolution/input/low00691.png and saved to ./sample_results/low00691.png\n",
            "15/100===> processing ./high_resolution/input/low00789.png and saved to ./sample_results/low00789.png\n",
            "16/100===> processing ./high_resolution/input/low00765.png and saved to ./sample_results/low00765.png\n",
            "17/100===> processing ./high_resolution/input/low00754.png and saved to ./sample_results/low00754.png\n",
            "18/100===> processing ./high_resolution/input/low00767.png and saved to ./sample_results/low00767.png\n",
            "19/100===> processing ./high_resolution/input/low00764.png and saved to ./sample_results/low00764.png\n",
            "20/100===> processing ./high_resolution/input/low00759.png and saved to ./sample_results/low00759.png\n",
            "21/100===> processing ./high_resolution/input/low00745.png and saved to ./sample_results/low00745.png\n",
            "22/100===> processing ./high_resolution/input/low00736.png and saved to ./sample_results/low00736.png\n",
            "23/100===> processing ./high_resolution/input/low00743.png and saved to ./sample_results/low00743.png\n",
            "24/100===> processing ./high_resolution/input/low00694.png and saved to ./sample_results/low00694.png\n",
            "25/100===> processing ./high_resolution/input/low00717.png and saved to ./sample_results/low00717.png\n",
            "26/100===> processing ./high_resolution/input/low00703.png and saved to ./sample_results/low00703.png\n",
            "27/100===> processing ./high_resolution/input/low00779.png and saved to ./sample_results/low00779.png\n",
            "28/100===> processing ./high_resolution/input/low00715.png and saved to ./sample_results/low00715.png\n",
            "29/100===> processing ./high_resolution/input/low00772.png and saved to ./sample_results/low00772.png\n",
            "30/100===> processing ./high_resolution/input/low00735.png and saved to ./sample_results/low00735.png\n",
            "31/100===> processing ./high_resolution/input/low00783.png and saved to ./sample_results/low00783.png\n",
            "32/100===> processing ./high_resolution/input/low00761.png and saved to ./sample_results/low00761.png\n",
            "33/100===> processing ./high_resolution/input/low00730.png and saved to ./sample_results/low00730.png\n",
            "34/100===> processing ./high_resolution/input/low00757.png and saved to ./sample_results/low00757.png\n",
            "35/100===> processing ./high_resolution/input/low00702.png and saved to ./sample_results/low00702.png\n",
            "36/100===> processing ./high_resolution/input/low00775.png and saved to ./sample_results/low00775.png\n",
            "37/100===> processing ./high_resolution/input/low00718.png and saved to ./sample_results/low00718.png\n",
            "38/100===> processing ./high_resolution/input/low00756.png and saved to ./sample_results/low00756.png\n",
            "39/100===> processing ./high_resolution/input/low00749.png and saved to ./sample_results/low00749.png\n",
            "40/100===> processing ./high_resolution/input/low00716.png and saved to ./sample_results/low00716.png\n",
            "41/100===> processing ./high_resolution/input/low00753.png and saved to ./sample_results/low00753.png\n",
            "42/100===> processing ./high_resolution/input/low00746.png and saved to ./sample_results/low00746.png\n",
            "43/100===> processing ./high_resolution/input/low00770.png and saved to ./sample_results/low00770.png\n",
            "44/100===> processing ./high_resolution/input/low00784.png and saved to ./sample_results/low00784.png\n",
            "45/100===> processing ./high_resolution/input/low00763.png and saved to ./sample_results/low00763.png\n",
            "46/100===> processing ./high_resolution/input/low00755.png and saved to ./sample_results/low00755.png\n",
            "47/100===> processing ./high_resolution/input/low00705.png and saved to ./sample_results/low00705.png\n",
            "48/100===> processing ./high_resolution/input/low00738.png and saved to ./sample_results/low00738.png\n",
            "49/100===> processing ./high_resolution/input/low00774.png and saved to ./sample_results/low00774.png\n",
            "50/100===> processing ./high_resolution/input/low00711.png and saved to ./sample_results/low00711.png\n",
            "51/100===> processing ./high_resolution/input/low00692.png and saved to ./sample_results/low00692.png\n",
            "52/100===> processing ./high_resolution/input/low00695.png and saved to ./sample_results/low00695.png\n",
            "53/100===> processing ./high_resolution/input/low00714.png and saved to ./sample_results/low00714.png\n",
            "54/100===> processing ./high_resolution/input/low00741.png and saved to ./sample_results/low00741.png\n",
            "55/100===> processing ./high_resolution/input/low00722.png and saved to ./sample_results/low00722.png\n",
            "56/100===> processing ./high_resolution/input/low00728.png and saved to ./sample_results/low00728.png\n",
            "57/100===> processing ./high_resolution/input/low00733.png and saved to ./sample_results/low00733.png\n",
            "58/100===> processing ./high_resolution/input/low00708.png and saved to ./sample_results/low00708.png\n",
            "59/100===> processing ./high_resolution/input/low00724.png and saved to ./sample_results/low00724.png\n",
            "60/100===> processing ./high_resolution/input/low00696.png and saved to ./sample_results/low00696.png\n",
            "61/100===> processing ./high_resolution/input/low00700.png and saved to ./sample_results/low00700.png\n",
            "62/100===> processing ./high_resolution/input/low00747.png and saved to ./sample_results/low00747.png\n",
            "63/100===> processing ./high_resolution/input/low00719.png and saved to ./sample_results/low00719.png\n",
            "64/100===> processing ./high_resolution/input/low00758.png and saved to ./sample_results/low00758.png\n",
            "65/100===> processing ./high_resolution/input/low00690.png and saved to ./sample_results/low00690.png\n",
            "66/100===> processing ./high_resolution/input/low00739.png and saved to ./sample_results/low00739.png\n",
            "67/100===> processing ./high_resolution/input/low00727.png and saved to ./sample_results/low00727.png\n",
            "68/100===> processing ./high_resolution/input/low00781.png and saved to ./sample_results/low00781.png\n",
            "69/100===> processing ./high_resolution/input/low00773.png and saved to ./sample_results/low00773.png\n",
            "70/100===> processing ./high_resolution/input/low00766.png and saved to ./sample_results/low00766.png\n",
            "71/100===> processing ./high_resolution/input/low00742.png and saved to ./sample_results/low00742.png\n",
            "72/100===> processing ./high_resolution/input/low00750.png and saved to ./sample_results/low00750.png\n",
            "73/100===> processing ./high_resolution/input/low00710.png and saved to ./sample_results/low00710.png\n",
            "74/100===> processing ./high_resolution/input/low00720.png and saved to ./sample_results/low00720.png\n",
            "75/100===> processing ./high_resolution/input/low00769.png and saved to ./sample_results/low00769.png\n",
            "76/100===> processing ./high_resolution/input/low00699.png and saved to ./sample_results/low00699.png\n",
            "77/100===> processing ./high_resolution/input/low00778.png and saved to ./sample_results/low00778.png\n",
            "78/100===> processing ./high_resolution/input/low00751.png and saved to ./sample_results/low00751.png\n",
            "79/100===> processing ./high_resolution/input/low00785.png and saved to ./sample_results/low00785.png\n",
            "80/100===> processing ./high_resolution/input/low00729.png and saved to ./sample_results/low00729.png\n",
            "81/100===> processing ./high_resolution/input/low00712.png and saved to ./sample_results/low00712.png\n",
            "82/100===> processing ./high_resolution/input/low00752.png and saved to ./sample_results/low00752.png\n",
            "83/100===> processing ./high_resolution/input/low00726.png and saved to ./sample_results/low00726.png\n",
            "84/100===> processing ./high_resolution/input/low00786.png and saved to ./sample_results/low00786.png\n",
            "85/100===> processing ./high_resolution/input/low00788.png and saved to ./sample_results/low00788.png\n",
            "86/100===> processing ./high_resolution/input/low00707.png and saved to ./sample_results/low00707.png\n",
            "87/100===> processing ./high_resolution/input/low00771.png and saved to ./sample_results/low00771.png\n",
            "88/100===> processing ./high_resolution/input/low00762.png and saved to ./sample_results/low00762.png\n",
            "89/100===> processing ./high_resolution/input/low00731.png and saved to ./sample_results/low00731.png\n",
            "90/100===> processing ./high_resolution/input/low00713.png and saved to ./sample_results/low00713.png\n",
            "91/100===> processing ./high_resolution/input/low00768.png and saved to ./sample_results/low00768.png\n",
            "92/100===> processing ./high_resolution/input/low00709.png and saved to ./sample_results/low00709.png\n",
            "93/100===> processing ./high_resolution/input/low00748.png and saved to ./sample_results/low00748.png\n",
            "94/100===> processing ./high_resolution/input/low00776.png and saved to ./sample_results/low00776.png\n",
            "95/100===> processing ./high_resolution/input/low00704.png and saved to ./sample_results/low00704.png\n",
            "96/100===> processing ./high_resolution/input/low00760.png and saved to ./sample_results/low00760.png\n",
            "97/100===> processing ./high_resolution/input/low00697.png and saved to ./sample_results/low00697.png\n",
            "98/100===> processing ./high_resolution/input/low00725.png and saved to ./sample_results/low00725.png\n",
            "99/100===> processing ./high_resolution/input/low00740.png and saved to ./sample_results/low00740.png\n",
            "100/100===> processing ./high_resolution/input/low00723.png and saved to ./sample_results/low00723.png\n",
            "耗时  :  0:00:05.973513\n"
          ]
        }
      ]
    },
    {
      "cell_type": "code",
      "source": [
        "!pip install torcheval\n",
        "\n",
        "import torch\n",
        "import torchvision.transforms as T\n",
        "import os\n",
        "from torcheval.metrics import PeakSignalNoiseRatio, MeanSquaredError\n",
        "from torchvision.transforms.functional import to_tensor\n",
        "from skimage.metrics import structural_similarity as ssim\n",
        "from PIL import Image\n",
        "import re\n",
        "import cv2\n",
        "import numpy as np\n",
        "\n",
        "def prepare_data(enhanced_dir_path, groundtruth_dir_path):\n",
        "    # Custom folder preparation and filtering\n",
        "    enhanced_images = sorted(os.listdir(enhanced_dir_path))\n",
        "    enhanced_images = [enhanced_dir_path + \"/\" +imgName for imgName in enhanced_images]\n",
        "    groundtruth_images = sorted(os.listdir(groundtruth_dir_path))\n",
        "    groundtruth_images = [groundtruth_dir_path + \"/\" + imgName for imgName in groundtruth_images]\n",
        "    return enhanced_images, groundtruth_images\n",
        "\n",
        "def evaluate_psnr(enhanced_images, groundtruth_images):\n",
        "    transform = T.ToTensor()\n",
        "    metric = PeakSignalNoiseRatio()\n",
        "    eval_list = []\n",
        "\n",
        "    for i in range(len(enhanced_images)):\n",
        "        enhanced_img = Image.open(enhanced_images[i])\n",
        "        groundtruth_img = Image.open(groundtruth_images[i])\n",
        "\n",
        "        tensor_enhanced_img = transform(enhanced_img)\n",
        "        tensor_groundtruth_img = transform(groundtruth_img)\n",
        "\n",
        "        metric.update(tensor_enhanced_img, tensor_groundtruth_img)\n",
        "        eval_list.append(metric.compute().item())\n",
        "\n",
        "    result = sum(eval_list) / len(eval_list)\n",
        "    return result\n",
        "\n",
        "\n",
        "def evaluate_ssim(enhanced_images, groundtruth_images):\n",
        "  eval_list = []\n",
        "\n",
        "  for i in range(len(enhanced_images)):\n",
        "    enhanced_img = Image.open(enhanced_images[i])\n",
        "    groundtruth_img = Image.open(groundtruth_images[i])\n",
        "\n",
        "    enhanced_np = np.array(enhanced_img)\n",
        "    groundtruth_np = np.array(groundtruth_img)\n",
        "\n",
        "    ssim_for_each_channel = []\n",
        "    for channel in range(3):\n",
        "      ssim_score_channel = ssim(enhanced_np[:, :, channel], groundtruth_np[:, :, channel])\n",
        "      ssim_for_each_channel.append(ssim_score_channel)\n",
        "\n",
        "    avg_ssim_channels = np.mean(ssim_for_each_channel)\n",
        "    eval_list.append(avg_ssim_channels)\n",
        "\n",
        "  result = np.mean(eval_list)\n",
        "  return result\n",
        "\n",
        "\n",
        "def evaluate_mse(enhanced_images, groundtruth_images):\n",
        "  eval_list = []\n",
        "\n",
        "  for i in range(len(enhanced_images)):\n",
        "    enhanced_img = np.array(Image.open(enhanced_images[i]))\n",
        "    groundtruth_img = np.array(Image.open(groundtruth_images[i]))\n",
        "\n",
        "    mse = np.mean(np.square(enhanced_img - groundtruth_img))\n",
        "    eval_list.append(mse)\n",
        "\n",
        "  result = np.mean(eval_list)\n",
        "  return result\n",
        "\n",
        "\n",
        "def evaluate_methods(enhanced_dir_path, groundtruth_dir_path, method):\n",
        "    enhanced_images, groundtruth_images = prepare_data(enhanced_dir_path, groundtruth_dir_path)\n",
        "    if method == \"PSNR\":\n",
        "        result = evaluate_psnr(enhanced_images, groundtruth_images)\n",
        "    elif method == \"SSIM\":\n",
        "        result = evaluate_ssim(enhanced_images, groundtruth_images)\n",
        "    elif method == \"MSE\":\n",
        "        result = evaluate_mse(enhanced_images, groundtruth_images)\n",
        "    else:\n",
        "        raise ValueError(\"Unsupported evaluation method.\")\n",
        "\n",
        "    return result"
      ],
      "metadata": {
        "colab": {
          "base_uri": "https://localhost:8080/"
        },
        "id": "NF7U4i6nyG3O",
        "outputId": "68bde4ff-e48d-44da-c7a9-4e42d19aaf80"
      },
      "execution_count": null,
      "outputs": [
        {
          "output_type": "stream",
          "name": "stdout",
          "text": [
            "Collecting torcheval\n",
            "  Downloading torcheval-0.0.7-py3-none-any.whl (179 kB)\n",
            "\u001b[?25l     \u001b[90m━━━━━━━━━━━━━━━━━━━━━━━━━━━━━━━━━━━━━━━━\u001b[0m \u001b[32m0.0/179.2 kB\u001b[0m \u001b[31m?\u001b[0m eta \u001b[36m-:--:--\u001b[0m\r\u001b[2K     \u001b[91m━━━━━━━━━━━━━━━━━━━━━━━━━━━━━━━━━━━━━━\u001b[0m\u001b[91m╸\u001b[0m\u001b[90m━\u001b[0m \u001b[32m174.1/179.2 kB\u001b[0m \u001b[31m5.5 MB/s\u001b[0m eta \u001b[36m0:00:01\u001b[0m\r\u001b[2K     \u001b[90m━━━━━━━━━━━━━━━━━━━━━━━━━━━━━━━━━━━━━━━━\u001b[0m \u001b[32m179.2/179.2 kB\u001b[0m \u001b[31m4.7 MB/s\u001b[0m eta \u001b[36m0:00:00\u001b[0m\n",
            "\u001b[?25hRequirement already satisfied: typing-extensions in /usr/local/lib/python3.10/dist-packages (from torcheval) (4.11.0)\n",
            "Installing collected packages: torcheval\n",
            "Successfully installed torcheval-0.0.7\n"
          ]
        }
      ]
    },
    {
      "cell_type": "code",
      "source": [
        "enhanced_dir_path = \"/content/sample_results\"\n",
        "groundtruth_dir_path = \"/content/LOL-v2/Real_captured/Test/Normal\"\n",
        "\n",
        "methods = [\"PSNR\",\"SSIM\",\"MSE\"]\n",
        "for method in methods:\n",
        "    result = evaluate_methods(enhanced_dir_path, groundtruth_dir_path, method)\n",
        "    print(\"The {} for the test images is: {:.2f}\".format(method, result))"
      ],
      "metadata": {
        "colab": {
          "base_uri": "https://localhost:8080/"
        },
        "id": "-o791Yx1yj2C",
        "outputId": "0140c5c0-ab45-4534-8740-6e47830059a9"
      },
      "execution_count": null,
      "outputs": [
        {
          "output_type": "stream",
          "name": "stdout",
          "text": [
            "The PSNR for the test images is: 12.47\n",
            "The SSIM for the test images is: 0.47\n",
            "The MSE for the test images is: 111.33\n"
          ]
        }
      ]
    },
    {
      "cell_type": "code",
      "source": [],
      "metadata": {
        "id": "Blhf45XRy-nh"
      },
      "execution_count": null,
      "outputs": []
    }
  ]
}